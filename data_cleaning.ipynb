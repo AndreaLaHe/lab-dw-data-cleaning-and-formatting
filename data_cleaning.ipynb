{
 "cells": [
  {
   "cell_type": "code",
   "execution_count": 1,
   "metadata": {},
   "outputs": [],
   "source": [
    "import pandas as pd"
   ]
  },
  {
   "cell_type": "code",
   "execution_count": null,
   "metadata": {},
   "outputs": [],
   "source": [
    "\n",
    "def load_data(file_path: str) -> pd.DataFrame:\n",
    "    return pd.read_csv(file_path)"
   ]
  },
  {
   "cell_type": "code",
   "execution_count": null,
   "metadata": {},
   "outputs": [],
   "source": [
    "def replace_gender_values(df: pd.DataFrame) -> pd.DataFrame:\n",
    "    df['gender'] = df['gender'].replace({'Femal': 'F', 'female': 'F', 'Male': 'M'})\n",
    "    return df"
   ]
  },
  {
   "cell_type": "code",
   "execution_count": null,
   "metadata": {},
   "outputs": [],
   "source": [
    "def convert_customer_lifetime_value(df: pd.DataFrame) -> pd.DataFrame:\n",
    "    df['customer_lifetime_value'] = df['customer_lifetime_value'].str.replace('%', '')\n",
    "    df['customer_lifetime_value'] = pd.to_numeric(df['customer_lifetime_value'])\n",
    "    return df"
   ]
  },
  {
   "cell_type": "code",
   "execution_count": null,
   "metadata": {},
   "outputs": [],
   "source": [
    "def clean_number_of_open_complaints(df: pd.DataFrame) -> pd.DataFrame:\n",
    "    df['number_of_open_complaints'] = df['number_of_open_complaints'].apply(\n",
    "        lambda x: x.split('/')[1] if isinstance(x, str) and '/' in x else x\n",
    "    )\n",
    "    df['number_of_open_complaints'] = pd.to_numeric(df['number_of_open_complaints'])\n",
    "    return df"
   ]
  },
  {
   "cell_type": "code",
   "execution_count": null,
   "metadata": {},
   "outputs": [],
   "source": [
    "def drop_duplicates_and_reset_index(df: pd.DataFrame) -> pd.DataFrame:\n",
    "    df = df.drop_duplicates(keep='first')\n",
    "    df.reset_index(drop=True, inplace=True)\n",
    "    return df"
   ]
  },
  {
   "cell_type": "code",
   "execution_count": null,
   "metadata": {},
   "outputs": [],
   "source": [
    "def save_cleaned_data(df: pd.DataFrame, output_path: str):\n",
    "    df.to_csv(output_path, index=False)"
   ]
  },
  {
   "cell_type": "code",
   "execution_count": null,
   "metadata": {},
   "outputs": [],
   "source": [
    "def main(file_path: str, output_path: str):\n",
    "    df = load_data(file_path)\n",
    "    df = replace_gender_values(df)\n",
    "    df = convert_customer_lifetime_value(df)\n",
    "    df = clean_number_of_open_complaints(df)\n",
    "    df = drop_duplicates_and_reset_index(df)\n",
    "    save_cleaned_data(df, output_path)"
   ]
  }
 ],
 "metadata": {
  "kernelspec": {
   "display_name": "Python 3",
   "language": "python",
   "name": "python3"
  },
  "language_info": {
   "codemirror_mode": {
    "name": "ipython",
    "version": 3
   },
   "file_extension": ".py",
   "mimetype": "text/x-python",
   "name": "python",
   "nbconvert_exporter": "python",
   "pygments_lexer": "ipython3",
   "version": "3.7.9"
  }
 },
 "nbformat": 4,
 "nbformat_minor": 2
}
